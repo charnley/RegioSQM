{
 "cells": [
  {
   "cell_type": "markdown",
   "id": "9706cd83-bcb1-4f12-bec6-0c2f900a84bb",
   "metadata": {
    "tags": []
   },
   "source": [
    "# Example: Use RegioSQM2018\n",
    "\n",
    "Reference\n",
    "- https://github.com/jensengroup/regiosqm\n",
    "- https://pubs.rsc.org/en/content/articlelanding/2018/SC/C7SC04156J\n"
   ]
  },
  {
   "cell_type": "code",
   "execution_count": null,
   "id": "56d729fb-d4cb-4c85-89d3-a88e2ede262f",
   "metadata": {},
   "outputs": [],
   "source": [
    "%load_ext autoreload\n",
    "%autoreload 2\n",
    "%matplotlib inline"
   ]
  },
  {
   "cell_type": "code",
   "execution_count": null,
   "id": "cec1d7de-746e-419a-b5a7-292d810fbbd0",
   "metadata": {},
   "outputs": [],
   "source": [
    "import logging\n",
    "import sys"
   ]
  },
  {
   "cell_type": "code",
   "execution_count": null,
   "id": "f13b3955-e0b6-4409-b0a1-0c1b7e1f2396",
   "metadata": {},
   "outputs": [],
   "source": [
    "# Show progress bars on pandas functions\n",
    "from tqdm.auto import tqdm\n",
    "tqdm.pandas()"
   ]
  },
  {
   "cell_type": "code",
   "execution_count": null,
   "id": "9a298979-6a6d-45ed-9457-203768e984a5",
   "metadata": {},
   "outputs": [],
   "source": [
    "import numpy as np\n",
    "import pandas as pd\n",
    "from IPython.display import SVG\n",
    "from rdkit import Chem\n",
    "from rdkit.Chem import AllChem, PandasTools\n",
    "from rdkit.Chem.Draw import MolsToGridImage, MolToImage, rdMolDraw2D"
   ]
  },
  {
   "cell_type": "code",
   "execution_count": null,
   "id": "72998a7d-826d-413a-8c65-2cd1d88f149a",
   "metadata": {},
   "outputs": [],
   "source": [
    "import ppqm"
   ]
  },
  {
   "cell_type": "code",
   "execution_count": null,
   "id": "d37af49e-a736-4d7e-b067-5294ed51b040",
   "metadata": {},
   "outputs": [],
   "source": [
    "# Set logging\n",
    "logging.basicConfig(stream=sys.stdout, level=logging.INFO)\n",
    "logging.getLogger(\"xtb\").setLevel(logging.INFO)\n",
    "show_progress = True"
   ]
  },
  {
   "cell_type": "code",
   "execution_count": null,
   "id": "c7ccc2af-3fe7-4658-906f-b24e86b59297",
   "metadata": {},
   "outputs": [],
   "source": [
    "# Set DataFrames visuals\n",
    "PandasTools.RenderImagesInAllDataFrames(images=True)\n",
    "pd.set_option('display.float_format','{:.2f}'.format)\n",
    "from IPython.display import HTML"
   ]
  },
  {
   "cell_type": "markdown",
   "id": "4f39f17c-5c13-487e-83d9-a0f5a0cf2504",
   "metadata": {},
   "source": [
    "## Import regiosqm"
   ]
  },
  {
   "cell_type": "code",
   "execution_count": null,
   "id": "6f385651-b748-4c91-96da-dd483b947229",
   "metadata": {},
   "outputs": [],
   "source": [
    "import regiosqm_lib as regiolib\n",
    "from regiosqm_lib.methods import regiosqm2018"
   ]
  },
  {
   "cell_type": "markdown",
   "id": "5ab0220e-52fa-45cb-89bc-b49c940b7177",
   "metadata": {},
   "source": [
    "# Define molecule\n",
    "\n",
    "\n",
    "\n"
   ]
  },
  {
   "cell_type": "code",
   "execution_count": null,
   "id": "74435bc2-7ad3-43aa-ab22-9d54d8241271",
   "metadata": {},
   "outputs": [],
   "source": [
    "#smiles = \"Cc1cc(NCCO)nc(-c2ccc(Br)cc2)n1\"  # CHEMBL1956589\n",
    "#smiles = \"n1(C)ccnc1\"\n",
    "#smiles = \"c1cnc(N)c(O[C@@H](c2cc(Cl)ccc2C(F)(F)F)C)c1\"\n",
    "smiles = \"c1(N(C)C)cccnc1\"\n",
    "smiles = \"c1(c(ccc(c1)N)F)[C@]1(NC(N(S(=O)(=O)C1)C)NC(=O)OC(C)(C)C)C\"\n",
    "# smiles = \"n1cccn1c1ncccn1\"\n",
    "molobj = Chem.MolFromSmiles(smiles)"
   ]
  },
  {
   "cell_type": "code",
   "execution_count": null,
   "id": "c9c7d1da-7474-4f8e-a883-f41821349af3",
   "metadata": {},
   "outputs": [],
   "source": [
    "mol_ = Chem.Mol(molobj, True)\n",
    "atoms = mol_.GetNumAtoms()\n",
    "for idx in range( atoms ):\n",
    "    mol_.GetAtomWithIdx( idx ).SetProp( 'molAtomMapNumber', str( mol_.GetAtomWithIdx( idx ).GetIdx() ) )\n",
    "HTML(PandasTools.PrintAsBase64PNGString(mol_))"
   ]
  },
  {
   "cell_type": "markdown",
   "id": "90618314-7a95-4800-88c7-52d840dc818c",
   "metadata": {},
   "source": [
    "# Generate and calculate energies of tautomers and protonations"
   ]
  },
  {
   "cell_type": "code",
   "execution_count": null,
   "id": "75501f36-fe5d-45e8-8adb-3d2189acb32d",
   "metadata": {},
   "outputs": [],
   "source": [
    "%%time\n",
    "pdf = regiosqm2018.predict_regioselective_dataframe(molobj)"
   ]
  },
  {
   "cell_type": "markdown",
   "id": "37db9330-e20b-48be-9e3c-34abfa358e9c",
   "metadata": {},
   "source": [
    "# Overview of all target sites and energies"
   ]
  },
  {
   "cell_type": "code",
   "execution_count": null,
   "id": "fdbad1fd-4631-48b0-8929-3b19b24a81fe",
   "metadata": {},
   "outputs": [],
   "source": [
    "HTML(pdf.to_html())"
   ]
  },
  {
   "cell_type": "markdown",
   "id": "61ef4125-b81d-4184-943a-6188becd734c",
   "metadata": {},
   "source": [
    "# With the all energies, select green and red sites"
   ]
  },
  {
   "cell_type": "code",
   "execution_count": null,
   "id": "c4fb952f-ecc9-4d71-98c7-2236ff1d92f6",
   "metadata": {},
   "outputs": [],
   "source": [
    "mol = regiosqm2018.predict_regioselective_sites(molobj, pdf)"
   ]
  },
  {
   "cell_type": "code",
   "execution_count": null,
   "id": "20d19493-274a-4579-8458-15b2ec2de4ad",
   "metadata": {},
   "outputs": [],
   "source": [
    "mol"
   ]
  },
  {
   "cell_type": "code",
   "execution_count": null,
   "id": "17c17782-19c5-4c67-b5b3-11bd29331ecb",
   "metadata": {},
   "outputs": [],
   "source": [
    "green_indices = mol.GetProp(\"regiosqm2018_cut1\").strip('][').split(', ')\n",
    "red_indices = mol.GetProp(\"regiosqm2018_cut2\").strip('][').split(', ')"
   ]
  },
  {
   "cell_type": "markdown",
   "id": "78cb5772-3d94-4d64-8bdb-65abe88faffc",
   "metadata": {},
   "source": [
    "## Show results"
   ]
  },
  {
   "cell_type": "code",
   "execution_count": null,
   "id": "3f6b2e6c-e93f-47ff-9c17-4b720e71ffa1",
   "metadata": {},
   "outputs": [],
   "source": [
    "# Define pretty colors\n",
    "colors = dict()\n",
    "colors[\"green\"] = (119, 198, 110)\n",
    "colors[\"green\"] = tuple(x/255 for x in colors[\"green\"])\n",
    "colors[\"red\"] = (201, 43, 38)\n",
    "colors[\"red\"] = tuple(x/255 for x in colors[\"red\"])\n",
    "\n",
    "# Find reactive centers and convert index type to int.\n",
    "# rdkit doesn't understand np.int\n",
    "green_indices = [int(x) for x in green_indices if x]\n",
    "red_indices = [int(x) for x in red_indices if x not in green_indices and x]\n",
    "\n",
    "# All highlights\n",
    "highlights = green_indices + red_indices\n",
    "\n",
    "# Map highlight to a color\n",
    "colormap = dict()\n",
    "colormap.update({key: [colors[\"green\"]] for key in green_indices})\n",
    "colormap.update({key: [colors[\"red\"]] for key in red_indices})"
   ]
  },
  {
   "cell_type": "code",
   "execution_count": null,
   "id": "3b5b256b-bef0-464e-bffc-fd9961946b12",
   "metadata": {},
   "outputs": [],
   "source": [
    "# should be working, but does not respect colors\n",
    "# MolToImage(\n",
    "#    molobj,\n",
    "#    highlightAtoms=highlights,\n",
    "#    highlightMap=colormap,\n",
    "#    size=(500,500),\n",
    "#)"
   ]
  },
  {
   "cell_type": "code",
   "execution_count": null,
   "id": "4d3d3355-fab9-4b70-ad13-b8a4280fdc02",
   "metadata": {},
   "outputs": [],
   "source": [
    "# http://rdkit.blogspot.com/2020/04/new-drawing-options-in-202003-release.html\n",
    "d2d = rdMolDraw2D.MolDraw2DSVG(500, 500)\n",
    "d2d.DrawMoleculeWithHighlights(molobj, \"Regioselective site(s)\", dict(colormap), {}, {}, {})\n",
    "d2d.FinishDrawing()\n",
    "SVG(d2d.GetDrawingText())"
   ]
  }
 ],
 "metadata": {
  "language_info": {
   "name": "python"
  }
 },
 "nbformat": 4,
 "nbformat_minor": 5
}
